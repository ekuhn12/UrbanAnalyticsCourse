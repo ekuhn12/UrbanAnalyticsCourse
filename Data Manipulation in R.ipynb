{
 "cells": [
  {
   "cell_type": "code",
   "execution_count": 1,
   "id": "69bdc2e4",
   "metadata": {},
   "outputs": [],
   "source": [
    "#Create two vectors\n",
    "a <- rep(2010:2017, each = 4) # this uses the rep() function to repeat values\n",
    "b <- round(runif(32, 0, 40)) # runif can be used to generate random numbers - in this case between 0 and 40\n",
    "#Create data frame\n",
    "c <- data.frame(a,b)"
   ]
  },
  {
   "cell_type": "code",
   "execution_count": 2,
   "id": "794106f5",
   "metadata": {},
   "outputs": [
    {
     "data": {
      "text/html": [
       "<table>\n",
       "<thead><tr><th scope=col>a</th><th scope=col>b</th></tr></thead>\n",
       "<tbody>\n",
       "\t<tr><td>2010</td><td>28  </td></tr>\n",
       "\t<tr><td>2010</td><td>25  </td></tr>\n",
       "\t<tr><td>2010</td><td>29  </td></tr>\n",
       "\t<tr><td>2010</td><td> 1  </td></tr>\n",
       "\t<tr><td>2011</td><td>37  </td></tr>\n",
       "\t<tr><td>2011</td><td>12  </td></tr>\n",
       "</tbody>\n",
       "</table>\n"
      ],
      "text/latex": [
       "\\begin{tabular}{r|ll}\n",
       " a & b\\\\\n",
       "\\hline\n",
       "\t 2010 & 28  \\\\\n",
       "\t 2010 & 25  \\\\\n",
       "\t 2010 & 29  \\\\\n",
       "\t 2010 &  1  \\\\\n",
       "\t 2011 & 37  \\\\\n",
       "\t 2011 & 12  \\\\\n",
       "\\end{tabular}\n"
      ],
      "text/markdown": [
       "\n",
       "| a | b |\n",
       "|---|---|\n",
       "| 2010 | 28   |\n",
       "| 2010 | 25   |\n",
       "| 2010 | 29   |\n",
       "| 2010 |  1   |\n",
       "| 2011 | 37   |\n",
       "| 2011 | 12   |\n",
       "\n"
      ],
      "text/plain": [
       "  a    b \n",
       "1 2010 28\n",
       "2 2010 25\n",
       "3 2010 29\n",
       "4 2010  1\n",
       "5 2011 37\n",
       "6 2011 12"
      ]
     },
     "metadata": {},
     "output_type": "display_data"
    }
   ],
   "source": [
    "#head returns the top six rows\n",
    "head(c)"
   ]
  },
  {
   "cell_type": "code",
   "execution_count": 3,
   "id": "7c2269e4",
   "metadata": {},
   "outputs": [
    {
     "data": {
      "text/html": [
       "<ol class=list-inline>\n",
       "\t<li>1</li>\n",
       "\t<li>2</li>\n",
       "\t<li>3</li>\n",
       "\t<li>4</li>\n",
       "\t<li>5</li>\n",
       "\t<li>6</li>\n",
       "\t<li>7</li>\n",
       "\t<li>8</li>\n",
       "\t<li>9</li>\n",
       "\t<li>10</li>\n",
       "\t<li>11</li>\n",
       "\t<li>12</li>\n",
       "\t<li>13</li>\n",
       "\t<li>14</li>\n",
       "\t<li>15</li>\n",
       "\t<li>16</li>\n",
       "\t<li>17</li>\n",
       "\t<li>18</li>\n",
       "\t<li>19</li>\n",
       "\t<li>20</li>\n",
       "\t<li>21</li>\n",
       "\t<li>22</li>\n",
       "\t<li>23</li>\n",
       "\t<li>24</li>\n",
       "\t<li>25</li>\n",
       "</ol>\n"
      ],
      "text/latex": [
       "\\begin{enumerate*}\n",
       "\\item 1\n",
       "\\item 2\n",
       "\\item 3\n",
       "\\item 4\n",
       "\\item 5\n",
       "\\item 6\n",
       "\\item 7\n",
       "\\item 8\n",
       "\\item 9\n",
       "\\item 10\n",
       "\\item 11\n",
       "\\item 12\n",
       "\\item 13\n",
       "\\item 14\n",
       "\\item 15\n",
       "\\item 16\n",
       "\\item 17\n",
       "\\item 18\n",
       "\\item 19\n",
       "\\item 20\n",
       "\\item 21\n",
       "\\item 22\n",
       "\\item 23\n",
       "\\item 24\n",
       "\\item 25\n",
       "\\end{enumerate*}\n"
      ],
      "text/markdown": [
       "1. 1\n",
       "2. 2\n",
       "3. 3\n",
       "4. 4\n",
       "5. 5\n",
       "6. 6\n",
       "7. 7\n",
       "8. 8\n",
       "9. 9\n",
       "10. 10\n",
       "11. 11\n",
       "12. 12\n",
       "13. 13\n",
       "14. 14\n",
       "15. 15\n",
       "16. 16\n",
       "17. 17\n",
       "18. 18\n",
       "19. 19\n",
       "20. 20\n",
       "21. 21\n",
       "22. 22\n",
       "23. 23\n",
       "24. 24\n",
       "25. 25\n",
       "\n",
       "\n"
      ],
      "text/plain": [
       " [1]  1  2  3  4  5  6  7  8  9 10 11 12 13 14 15 16 17 18 19 20 21 22 23 24 25"
      ]
     },
     "metadata": {},
     "output_type": "display_data"
    },
    {
     "data": {
      "text/html": [
       "<table>\n",
       "<tbody>\n",
       "\t<tr><td>1 </td><td> 6</td><td>11</td><td>16</td><td>21</td></tr>\n",
       "\t<tr><td>2 </td><td> 7</td><td>12</td><td>17</td><td>22</td></tr>\n",
       "\t<tr><td>3 </td><td> 8</td><td>13</td><td>18</td><td>23</td></tr>\n",
       "\t<tr><td>4 </td><td> 9</td><td>14</td><td>19</td><td>24</td></tr>\n",
       "\t<tr><td>5 </td><td>10</td><td>15</td><td>20</td><td>25</td></tr>\n",
       "</tbody>\n",
       "</table>\n"
      ],
      "text/latex": [
       "\\begin{tabular}{lllll}\n",
       "\t 1  &  6 & 11 & 16 & 21\\\\\n",
       "\t 2  &  7 & 12 & 17 & 22\\\\\n",
       "\t 3  &  8 & 13 & 18 & 23\\\\\n",
       "\t 4  &  9 & 14 & 19 & 24\\\\\n",
       "\t 5  & 10 & 15 & 20 & 25\\\\\n",
       "\\end{tabular}\n"
      ],
      "text/markdown": [
       "\n",
       "| 1  |  6 | 11 | 16 | 21 |\n",
       "| 2  |  7 | 12 | 17 | 22 |\n",
       "| 3  |  8 | 13 | 18 | 23 |\n",
       "| 4  |  9 | 14 | 19 | 24 |\n",
       "| 5  | 10 | 15 | 20 | 25 |\n",
       "\n"
      ],
      "text/plain": [
       "     [,1] [,2] [,3] [,4] [,5]\n",
       "[1,] 1     6   11   16   21  \n",
       "[2,] 2     7   12   17   22  \n",
       "[3,] 3     8   13   18   23  \n",
       "[4,] 4     9   14   19   24  \n",
       "[5,] 5    10   15   20   25  "
      ]
     },
     "metadata": {},
     "output_type": "display_data"
    }
   ],
   "source": [
    "#Create a list of numbers\n",
    "a <- 1:25 #The colon signifies a range\n",
    "a\n",
    "\n",
    "#Create a matrix with 5 rows and 5 columns\n",
    "b <- matrix(a,nrow=5, ncol=5)\n",
    "b"
   ]
  },
  {
   "cell_type": "code",
   "execution_count": 4,
   "id": "8afb3c18",
   "metadata": {},
   "outputs": [
    {
     "data": {
      "text/html": [
       "<table>\n",
       "<tbody>\n",
       "\t<tr><td>10 </td><td> 60</td><td>110</td><td>160</td><td>210</td></tr>\n",
       "\t<tr><td>20 </td><td> 70</td><td>120</td><td>170</td><td>220</td></tr>\n",
       "\t<tr><td>30 </td><td> 80</td><td>130</td><td>180</td><td>230</td></tr>\n",
       "\t<tr><td>40 </td><td> 90</td><td>140</td><td>190</td><td>240</td></tr>\n",
       "\t<tr><td>50 </td><td>100</td><td>150</td><td>200</td><td>250</td></tr>\n",
       "</tbody>\n",
       "</table>\n"
      ],
      "text/latex": [
       "\\begin{tabular}{lllll}\n",
       "\t 10  &  60 & 110 & 160 & 210\\\\\n",
       "\t 20  &  70 & 120 & 170 & 220\\\\\n",
       "\t 30  &  80 & 130 & 180 & 230\\\\\n",
       "\t 40  &  90 & 140 & 190 & 240\\\\\n",
       "\t 50  & 100 & 150 & 200 & 250\\\\\n",
       "\\end{tabular}\n"
      ],
      "text/markdown": [
       "\n",
       "| 10  |  60 | 110 | 160 | 210 |\n",
       "| 20  |  70 | 120 | 170 | 220 |\n",
       "| 30  |  80 | 130 | 180 | 230 |\n",
       "| 40  |  90 | 140 | 190 | 240 |\n",
       "| 50  | 100 | 150 | 200 | 250 |\n",
       "\n"
      ],
      "text/plain": [
       "     [,1] [,2] [,3] [,4] [,5]\n",
       "[1,] 10    60  110  160  210 \n",
       "[2,] 20    70  120  170  220 \n",
       "[3,] 30    80  130  180  230 \n",
       "[4,] 40    90  140  190  240 \n",
       "[5,] 50   100  150  200  250 "
      ]
     },
     "metadata": {},
     "output_type": "display_data"
    },
    {
     "data": {
      "text/html": [
       "<table>\n",
       "<tbody>\n",
       "\t<tr><td> 1 </td><td> 36</td><td>121</td><td>256</td><td>441</td></tr>\n",
       "\t<tr><td> 4 </td><td> 49</td><td>144</td><td>289</td><td>484</td></tr>\n",
       "\t<tr><td> 9 </td><td> 64</td><td>169</td><td>324</td><td>529</td></tr>\n",
       "\t<tr><td>16 </td><td> 81</td><td>196</td><td>361</td><td>576</td></tr>\n",
       "\t<tr><td>25 </td><td>100</td><td>225</td><td>400</td><td>625</td></tr>\n",
       "</tbody>\n",
       "</table>\n"
      ],
      "text/latex": [
       "\\begin{tabular}{lllll}\n",
       "\t  1  &  36 & 121 & 256 & 441\\\\\n",
       "\t  4  &  49 & 144 & 289 & 484\\\\\n",
       "\t  9  &  64 & 169 & 324 & 529\\\\\n",
       "\t 16  &  81 & 196 & 361 & 576\\\\\n",
       "\t 25  & 100 & 225 & 400 & 625\\\\\n",
       "\\end{tabular}\n"
      ],
      "text/markdown": [
       "\n",
       "|  1  |  36 | 121 | 256 | 441 |\n",
       "|  4  |  49 | 144 | 289 | 484 |\n",
       "|  9  |  64 | 169 | 324 | 529 |\n",
       "| 16  |  81 | 196 | 361 | 576 |\n",
       "| 25  | 100 | 225 | 400 | 625 |\n",
       "\n"
      ],
      "text/plain": [
       "     [,1] [,2] [,3] [,4] [,5]\n",
       "[1,]  1    36  121  256  441 \n",
       "[2,]  4    49  144  289  484 \n",
       "[3,]  9    64  169  324  529 \n",
       "[4,] 16    81  196  361  576 \n",
       "[5,] 25   100  225  400  625 "
      ]
     },
     "metadata": {},
     "output_type": "display_data"
    }
   ],
   "source": [
    "#Multiply b by 10\n",
    "b*10\n",
    "#Multiply b * b\n",
    "b*b"
   ]
  },
  {
   "cell_type": "code",
   "execution_count": 5,
   "id": "3709770e",
   "metadata": {},
   "outputs": [
    {
     "data": {
      "text/html": [
       "<ol class=list-inline>\n",
       "\t<li>1</li>\n",
       "\t<li>6</li>\n",
       "\t<li>11</li>\n",
       "\t<li>16</li>\n",
       "\t<li>21</li>\n",
       "</ol>\n"
      ],
      "text/latex": [
       "\\begin{enumerate*}\n",
       "\\item 1\n",
       "\\item 6\n",
       "\\item 11\n",
       "\\item 16\n",
       "\\item 21\n",
       "\\end{enumerate*}\n"
      ],
      "text/markdown": [
       "1. 1\n",
       "2. 6\n",
       "3. 11\n",
       "4. 16\n",
       "5. 21\n",
       "\n",
       "\n"
      ],
      "text/plain": [
       "[1]  1  6 11 16 21"
      ]
     },
     "metadata": {},
     "output_type": "display_data"
    },
    {
     "data": {
      "text/html": [
       "<ol class=list-inline>\n",
       "\t<li>16</li>\n",
       "\t<li>17</li>\n",
       "\t<li>18</li>\n",
       "\t<li>19</li>\n",
       "\t<li>20</li>\n",
       "</ol>\n"
      ],
      "text/latex": [
       "\\begin{enumerate*}\n",
       "\\item 16\n",
       "\\item 17\n",
       "\\item 18\n",
       "\\item 19\n",
       "\\item 20\n",
       "\\end{enumerate*}\n"
      ],
      "text/markdown": [
       "1. 16\n",
       "2. 17\n",
       "3. 18\n",
       "4. 19\n",
       "5. 20\n",
       "\n",
       "\n"
      ],
      "text/plain": [
       "[1] 16 17 18 19 20"
      ]
     },
     "metadata": {},
     "output_type": "display_data"
    },
    {
     "data": {
      "text/html": [
       "<table>\n",
       "<tbody>\n",
       "\t<tr><td>11</td><td>16</td></tr>\n",
       "\t<tr><td>12</td><td>17</td></tr>\n",
       "\t<tr><td>13</td><td>18</td></tr>\n",
       "\t<tr><td>14</td><td>19</td></tr>\n",
       "\t<tr><td>15</td><td>20</td></tr>\n",
       "</tbody>\n",
       "</table>\n"
      ],
      "text/latex": [
       "\\begin{tabular}{ll}\n",
       "\t 11 & 16\\\\\n",
       "\t 12 & 17\\\\\n",
       "\t 13 & 18\\\\\n",
       "\t 14 & 19\\\\\n",
       "\t 15 & 20\\\\\n",
       "\\end{tabular}\n"
      ],
      "text/markdown": [
       "\n",
       "| 11 | 16 |\n",
       "| 12 | 17 |\n",
       "| 13 | 18 |\n",
       "| 14 | 19 |\n",
       "| 15 | 20 |\n",
       "\n"
      ],
      "text/plain": [
       "     [,1] [,2]\n",
       "[1,] 11   16  \n",
       "[2,] 12   17  \n",
       "[3,] 13   18  \n",
       "[4,] 14   19  \n",
       "[5,] 15   20  "
      ]
     },
     "metadata": {},
     "output_type": "display_data"
    },
    {
     "data": {
      "text/html": [
       "<table>\n",
       "<tbody>\n",
       "\t<tr><td>1 </td><td> 6</td><td>11</td><td>16</td><td>21</td></tr>\n",
       "\t<tr><td>5 </td><td>10</td><td>15</td><td>20</td><td>25</td></tr>\n",
       "</tbody>\n",
       "</table>\n"
      ],
      "text/latex": [
       "\\begin{tabular}{lllll}\n",
       "\t 1  &  6 & 11 & 16 & 21\\\\\n",
       "\t 5  & 10 & 15 & 20 & 25\\\\\n",
       "\\end{tabular}\n"
      ],
      "text/markdown": [
       "\n",
       "| 1  |  6 | 11 | 16 | 21 |\n",
       "| 5  | 10 | 15 | 20 | 25 |\n",
       "\n"
      ],
      "text/plain": [
       "     [,1] [,2] [,3] [,4] [,5]\n",
       "[1,] 1     6   11   16   21  \n",
       "[2,] 5    10   15   20   25  "
      ]
     },
     "metadata": {},
     "output_type": "display_data"
    },
    {
     "data": {
      "text/html": [
       "18"
      ],
      "text/latex": [
       "18"
      ],
      "text/markdown": [
       "18"
      ],
      "text/plain": [
       "[1] 18"
      ]
     },
     "metadata": {},
     "output_type": "display_data"
    }
   ],
   "source": [
    "#Extract first row\n",
    "b[1,]\n",
    "#Extract fourth column\n",
    "b[,4]\n",
    "#Extract third and fourth columns\n",
    "b[,3:4] # The colon is used to define a numeric vector between the two numbers\n",
    "#Extract first and fourth rows\n",
    "b[c(1,5),] # The c() is used to create a numeric vector with the numbers separated by a comma\n",
    "#Extract the value in the third row and fourth column\n",
    "b[3,4]"
   ]
  },
  {
   "cell_type": "code",
   "execution_count": 6,
   "id": "55168fde",
   "metadata": {},
   "outputs": [
    {
     "data": {
      "text/html": [
       "<ol class=list-inline>\n",
       "\t<li>2010</li>\n",
       "\t<li>2010</li>\n",
       "\t<li>2010</li>\n",
       "\t<li>2010</li>\n",
       "\t<li>2011</li>\n",
       "\t<li>2011</li>\n",
       "\t<li>2011</li>\n",
       "\t<li>2011</li>\n",
       "\t<li>2012</li>\n",
       "\t<li>2012</li>\n",
       "\t<li>2012</li>\n",
       "\t<li>2012</li>\n",
       "\t<li>2013</li>\n",
       "\t<li>2013</li>\n",
       "\t<li>2013</li>\n",
       "\t<li>2013</li>\n",
       "\t<li>2014</li>\n",
       "\t<li>2014</li>\n",
       "\t<li>2014</li>\n",
       "\t<li>2014</li>\n",
       "\t<li>2015</li>\n",
       "\t<li>2015</li>\n",
       "\t<li>2015</li>\n",
       "\t<li>2015</li>\n",
       "\t<li>2016</li>\n",
       "\t<li>2016</li>\n",
       "\t<li>2016</li>\n",
       "\t<li>2016</li>\n",
       "\t<li>2017</li>\n",
       "\t<li>2017</li>\n",
       "\t<li>2017</li>\n",
       "\t<li>2017</li>\n",
       "</ol>\n"
      ],
      "text/latex": [
       "\\begin{enumerate*}\n",
       "\\item 2010\n",
       "\\item 2010\n",
       "\\item 2010\n",
       "\\item 2010\n",
       "\\item 2011\n",
       "\\item 2011\n",
       "\\item 2011\n",
       "\\item 2011\n",
       "\\item 2012\n",
       "\\item 2012\n",
       "\\item 2012\n",
       "\\item 2012\n",
       "\\item 2013\n",
       "\\item 2013\n",
       "\\item 2013\n",
       "\\item 2013\n",
       "\\item 2014\n",
       "\\item 2014\n",
       "\\item 2014\n",
       "\\item 2014\n",
       "\\item 2015\n",
       "\\item 2015\n",
       "\\item 2015\n",
       "\\item 2015\n",
       "\\item 2016\n",
       "\\item 2016\n",
       "\\item 2016\n",
       "\\item 2016\n",
       "\\item 2017\n",
       "\\item 2017\n",
       "\\item 2017\n",
       "\\item 2017\n",
       "\\end{enumerate*}\n"
      ],
      "text/markdown": [
       "1. 2010\n",
       "2. 2010\n",
       "3. 2010\n",
       "4. 2010\n",
       "5. 2011\n",
       "6. 2011\n",
       "7. 2011\n",
       "8. 2011\n",
       "9. 2012\n",
       "10. 2012\n",
       "11. 2012\n",
       "12. 2012\n",
       "13. 2013\n",
       "14. 2013\n",
       "15. 2013\n",
       "16. 2013\n",
       "17. 2014\n",
       "18. 2014\n",
       "19. 2014\n",
       "20. 2014\n",
       "21. 2015\n",
       "22. 2015\n",
       "23. 2015\n",
       "24. 2015\n",
       "25. 2016\n",
       "26. 2016\n",
       "27. 2016\n",
       "28. 2016\n",
       "29. 2017\n",
       "30. 2017\n",
       "31. 2017\n",
       "32. 2017\n",
       "\n",
       "\n"
      ],
      "text/plain": [
       " [1] 2010 2010 2010 2010 2011 2011 2011 2011 2012 2012 2012 2012 2013 2013 2013\n",
       "[16] 2013 2014 2014 2014 2014 2015 2015 2015 2015 2016 2016 2016 2016 2017 2017\n",
       "[31] 2017 2017"
      ]
     },
     "metadata": {},
     "output_type": "display_data"
    },
    {
     "data": {
      "text/html": [
       "<ol class=list-inline>\n",
       "\t<li>2010</li>\n",
       "\t<li>2010</li>\n",
       "\t<li>2010</li>\n",
       "\t<li>2010</li>\n",
       "\t<li>2011</li>\n",
       "\t<li>2011</li>\n",
       "\t<li>2011</li>\n",
       "\t<li>2011</li>\n",
       "\t<li>2012</li>\n",
       "\t<li>2012</li>\n",
       "\t<li>2012</li>\n",
       "\t<li>2012</li>\n",
       "\t<li>2013</li>\n",
       "\t<li>2013</li>\n",
       "\t<li>2013</li>\n",
       "\t<li>2013</li>\n",
       "\t<li>2014</li>\n",
       "\t<li>2014</li>\n",
       "\t<li>2014</li>\n",
       "\t<li>2014</li>\n",
       "\t<li>2015</li>\n",
       "\t<li>2015</li>\n",
       "\t<li>2015</li>\n",
       "\t<li>2015</li>\n",
       "\t<li>2016</li>\n",
       "\t<li>2016</li>\n",
       "\t<li>2016</li>\n",
       "\t<li>2016</li>\n",
       "\t<li>2017</li>\n",
       "\t<li>2017</li>\n",
       "\t<li>2017</li>\n",
       "\t<li>2017</li>\n",
       "</ol>\n"
      ],
      "text/latex": [
       "\\begin{enumerate*}\n",
       "\\item 2010\n",
       "\\item 2010\n",
       "\\item 2010\n",
       "\\item 2010\n",
       "\\item 2011\n",
       "\\item 2011\n",
       "\\item 2011\n",
       "\\item 2011\n",
       "\\item 2012\n",
       "\\item 2012\n",
       "\\item 2012\n",
       "\\item 2012\n",
       "\\item 2013\n",
       "\\item 2013\n",
       "\\item 2013\n",
       "\\item 2013\n",
       "\\item 2014\n",
       "\\item 2014\n",
       "\\item 2014\n",
       "\\item 2014\n",
       "\\item 2015\n",
       "\\item 2015\n",
       "\\item 2015\n",
       "\\item 2015\n",
       "\\item 2016\n",
       "\\item 2016\n",
       "\\item 2016\n",
       "\\item 2016\n",
       "\\item 2017\n",
       "\\item 2017\n",
       "\\item 2017\n",
       "\\item 2017\n",
       "\\end{enumerate*}\n"
      ],
      "text/markdown": [
       "1. 2010\n",
       "2. 2010\n",
       "3. 2010\n",
       "4. 2010\n",
       "5. 2011\n",
       "6. 2011\n",
       "7. 2011\n",
       "8. 2011\n",
       "9. 2012\n",
       "10. 2012\n",
       "11. 2012\n",
       "12. 2012\n",
       "13. 2013\n",
       "14. 2013\n",
       "15. 2013\n",
       "16. 2013\n",
       "17. 2014\n",
       "18. 2014\n",
       "19. 2014\n",
       "20. 2014\n",
       "21. 2015\n",
       "22. 2015\n",
       "23. 2015\n",
       "24. 2015\n",
       "25. 2016\n",
       "26. 2016\n",
       "27. 2016\n",
       "28. 2016\n",
       "29. 2017\n",
       "30. 2017\n",
       "31. 2017\n",
       "32. 2017\n",
       "\n",
       "\n"
      ],
      "text/plain": [
       " [1] 2010 2010 2010 2010 2011 2011 2011 2011 2012 2012 2012 2012 2013 2013 2013\n",
       "[16] 2013 2014 2014 2014 2014 2015 2015 2015 2015 2016 2016 2016 2016 2017 2017\n",
       "[31] 2017 2017"
      ]
     },
     "metadata": {},
     "output_type": "display_data"
    }
   ],
   "source": [
    "#Return all the values in the column called \"a\"\n",
    "c$a\n",
    "#A different way of returning the column called \"a\"\n",
    "c[,\"a\"]"
   ]
  },
  {
   "cell_type": "code",
   "execution_count": 7,
   "id": "e10ae876",
   "metadata": {},
   "outputs": [
    {
     "data": {
      "text/html": [
       "<ol class=list-inline>\n",
       "\t<li>'a'</li>\n",
       "\t<li>'b'</li>\n",
       "</ol>\n"
      ],
      "text/latex": [
       "\\begin{enumerate*}\n",
       "\\item 'a'\n",
       "\\item 'b'\n",
       "\\end{enumerate*}\n"
      ],
      "text/markdown": [
       "1. 'a'\n",
       "2. 'b'\n",
       "\n",
       "\n"
      ],
      "text/plain": [
       "[1] \"a\" \"b\""
      ]
     },
     "metadata": {},
     "output_type": "display_data"
    }
   ],
   "source": [
    "colnames(c)"
   ]
  },
  {
   "cell_type": "code",
   "execution_count": 8,
   "id": "6e6e02bd",
   "metadata": {},
   "outputs": [],
   "source": [
    "colnames(c) <- c(\"Year\",\"Count\")"
   ]
  },
  {
   "cell_type": "code",
   "execution_count": 25,
   "id": "dbffdb6e",
   "metadata": {},
   "outputs": [
    {
     "name": "stderr",
     "output_type": "stream",
     "text": [
      "Warning message in file(file, \"rt\"):\n",
      "\"cannot open file './notebooks/data/ACS_14_5YR_S2001_with_ann.csv': No such file or directory\""
     ]
    },
    {
     "ename": "ERROR",
     "evalue": "Error in file(file, \"rt\"): cannot open the connection\n",
     "output_type": "error",
     "traceback": [
      "Error in file(file, \"rt\"): cannot open the connection\nTraceback:\n",
      "1. read.csv(\"./notebooks/data/ACS_14_5YR_S2001_with_ann.csv\")",
      "2. read.table(file = file, header = header, sep = sep, quote = quote, \n .     dec = dec, fill = fill, comment.char = comment.char, ...)",
      "3. file(file, \"rt\")"
     ]
    }
   ],
   "source": [
    "#Read CSV file - creates a data frame called earnings\n",
    "earnings <- read.csv(\"./notebooks/data/ACS_14_5YR_S2001_with_ann.csv\")"
   ]
  },
  {
   "cell_type": "code",
   "execution_count": 22,
   "id": "424c5151",
   "metadata": {},
   "outputs": [
    {
     "data": {
      "text/html": [
       "'X..DOCTYPE.html.'"
      ],
      "text/latex": [
       "'X..DOCTYPE.html.'"
      ],
      "text/markdown": [
       "'X..DOCTYPE.html.'"
      ],
      "text/plain": [
       "[1] \"X..DOCTYPE.html.\""
      ]
     },
     "metadata": {},
     "output_type": "display_data"
    }
   ],
   "source": [
    "#Show column headings\n",
    "colnames(earnings)\n",
    "\n",
    "#UID - Tract ID\n",
    "#pop - estimated total population over 16 with income\n",
    "#pop_m - estimated total population over 16 with income (margin of error)\n",
    "#earnings - estimated median earnings\n",
    "#earnings - estimated median earnings (margin of error)"
   ]
  },
  {
   "cell_type": "code",
   "execution_count": 23,
   "id": "bb9095bf",
   "metadata": {},
   "outputs": [
    {
     "name": "stdout",
     "output_type": "stream",
     "text": [
      "'data.frame':\t428 obs. of  1 variable:\n",
      " $ X..DOCTYPE.html.: Factor w/ 321 levels \"  \",\"    \",\"      \",..: 313 224 135 230 228 229 231 237 236 225 ...\n"
     ]
    }
   ],
   "source": [
    "str(earnings)"
   ]
  },
  {
   "cell_type": "code",
   "execution_count": null,
   "id": "f7ac50d3",
   "metadata": {},
   "outputs": [],
   "source": []
  }
 ],
 "metadata": {
  "kernelspec": {
   "display_name": "R",
   "language": "R",
   "name": "ir"
  },
  "language_info": {
   "codemirror_mode": "r",
   "file_extension": ".r",
   "mimetype": "text/x-r-source",
   "name": "R",
   "pygments_lexer": "r",
   "version": "3.6.1"
  }
 },
 "nbformat": 4,
 "nbformat_minor": 5
}
